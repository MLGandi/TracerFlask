{
 "cells": [
  {
   "cell_type": "code",
   "execution_count": 5,
   "id": "5752e8a0",
   "metadata": {},
   "outputs": [],
   "source": [
    "from flask import Flask\n",
    "from flask_restful import Resource, Api, reqparse\n",
    "import pandas as pd\n",
    "import ast\n",
    "\n",
    "from MagicKI import start"
   ]
  },
  {
   "cell_type": "code",
   "execution_count": 6,
   "id": "bb05a33a",
   "metadata": {},
   "outputs": [],
   "source": [
    "# print(start([10, 40, 40], 17))"
   ]
  },
  {
   "cell_type": "code",
   "execution_count": 7,
   "id": "084b160c",
   "metadata": {},
   "outputs": [],
   "source": [
    "app = Flask(__name__)\n",
    "api = Api(app)\n",
    "\n",
    "dictionary = {\"input\" : [40,40,40], \n",
    "                 \"output\" : [0,0,0]}\n",
    "    \n",
    "class rlracer(Resource):\n",
    "    \n",
    "    def get(self): # Steuerungswerte auslesen; vom NN zum Racer\n",
    "        data = dictionary[\"output\"]\n",
    "        \n",
    "        # print(data) # [0, 0, 0]\n",
    "    \n",
    "        return {'output': data}, 200  # return data and 200 OK\n",
    "\n",
    "\n",
    "    def put(self): # Sensorwerte eingeben; von Racer zu NN\n",
    "        parser = reqparse.RequestParser()  # initialize\n",
    "        parser.add_argument('input', required=True)  # add args\n",
    "        args = parser.parse_args()  # parse arguments to dictionary\n",
    "    \n",
    "        input = ast.literal_eval(args[\"input\"]) # type string to list\n",
    "        \n",
    "        dictionary[\"input\"] = input\n",
    "        \n",
    "        output = start(input, 17)\n",
    "        dictionary[\"output\"] = output\n",
    "        \n",
    "        # print(data) # [12, 22, 11]\n",
    "        \n",
    "        return {'input': dictionary}, 200 # return data and 200 OK\n",
    "\n",
    "\n",
    "    def delete(self):\n",
    "        return {\"not implemented\"}, 404\n",
    "\n",
    "    def post(self):\n",
    "        return {\"not implemented\"}, 404\n",
    "                    \n",
    "\n",
    "api.add_resource(rlracer, '/rlracer')  # add endpoints"
   ]
  },
  {
   "cell_type": "code",
   "execution_count": null,
   "id": "597b818b",
   "metadata": {
    "scrolled": true
   },
   "outputs": [
    {
     "name": "stdout",
     "output_type": "stream",
     "text": [
      " * Serving Flask app '__main__' (lazy loading)\n",
      " * Environment: production\n",
      "\u001b[31m   WARNING: This is a development server. Do not use it in a production deployment.\u001b[0m\n",
      "\u001b[2m   Use a production WSGI server instead.\u001b[0m\n",
      " * Debug mode: off\n"
     ]
    },
    {
     "name": "stderr",
     "output_type": "stream",
     "text": [
      " * Running on all addresses.\n",
      "   WARNING: This is a development server. Do not use it in a production deployment.\n",
      " * Running on http://172.31.43.50:80/ (Press CTRL+C to quit)\n"
     ]
    }
   ],
   "source": [
    "#if __name__ == '__main__':\n",
    "app.run(host='0.0.0.0', port=80)  # run our Flask app"
   ]
  },
  {
   "cell_type": "code",
   "execution_count": null,
   "id": "243ced2f",
   "metadata": {},
   "outputs": [],
   "source": []
  }
 ],
 "metadata": {
  "kernelspec": {
   "display_name": "Python 3",
   "language": "python",
   "name": "python3"
  },
  "language_info": {
   "codemirror_mode": {
    "name": "ipython",
    "version": 3
   },
   "file_extension": ".py",
   "mimetype": "text/x-python",
   "name": "python",
   "nbconvert_exporter": "python",
   "pygments_lexer": "ipython3",
   "version": "3.7.0"
  }
 },
 "nbformat": 4,
 "nbformat_minor": 5
}
